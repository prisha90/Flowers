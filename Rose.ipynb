{
 "cells": [
  {
   "cell_type": "code",
   "execution_count": null,
   "metadata": {},
   "outputs": [
    {
     "name": "stdout",
     "output_type": "stream",
     "text": [
      "Collecting matplotlib\n",
      "  Using cached matplotlib-3.10.0-cp312-cp312-win_amd64.whl.metadata (11 kB)\n",
      "Collecting contourpy>=1.0.1 (from matplotlib)\n",
      "  Using cached contourpy-1.3.1-cp312-cp312-win_amd64.whl.metadata (5.4 kB)\n",
      "Collecting cycler>=0.10 (from matplotlib)\n",
      "  Using cached cycler-0.12.1-py3-none-any.whl.metadata (3.8 kB)\n",
      "Requirement already satisfied: fonttools>=4.22.0 in c:\\python312\\lib\\site-packages (from matplotlib) (4.55.8)\n",
      "Requirement already satisfied: kiwisolver>=1.3.1 in c:\\python312\\lib\\site-packages (from matplotlib) (1.4.8)\n",
      "Requirement already satisfied: numpy>=1.23 in c:\\python312\\lib\\site-packages (from matplotlib) (2.0.2)\n",
      "Requirement already satisfied: packaging>=20.0 in c:\\python312\\lib\\site-packages (from matplotlib) (24.2)\n",
      "Requirement already satisfied: pillow>=8 in c:\\python312\\lib\\site-packages (from matplotlib) (11.1.0)\n",
      "Requirement already satisfied: pyparsing>=2.3.1 in c:\\python312\\lib\\site-packages (from matplotlib) (3.2.1)\n",
      "Requirement already satisfied: python-dateutil>=2.7 in c:\\python312\\lib\\site-packages (from matplotlib) (2.9.0.post0)\n",
      "Requirement already satisfied: six>=1.5 in c:\\python312\\lib\\site-packages (from python-dateutil>=2.7->matplotlib) (1.17.0)\n",
      "Using cached matplotlib-3.10.0-cp312-cp312-win_amd64.whl (8.0 MB)\n",
      "Using cached contourpy-1.3.1-cp312-cp312-win_amd64.whl (220 kB)\n",
      "Using cached cycler-0.12.1-py3-none-any.whl (8.3 kB)\n",
      "Installing collected packages: cycler, contourpy, matplotlib\n",
      "Successfully installed contourpy-1.3.1 cycler-0.12.1 matplotlib-3.10.0\n",
      "Note: you may need to restart the kernel to use updated packages.\n"
     ]
    },
    {
     "name": "stderr",
     "output_type": "stream",
     "text": [
      "WARNING: Ignoring invalid distribution ~ (c:\\Python312\\Lib\\site-packages)\n",
      "WARNING: Ignoring invalid distribution ~ip (c:\\Python312\\Lib\\site-packages)\n",
      "WARNING: Ignoring invalid distribution ~ (c:\\Python312\\Lib\\site-packages)\n",
      "WARNING: Ignoring invalid distribution ~ip (c:\\Python312\\Lib\\site-packages)\n",
      "WARNING: Ignoring invalid distribution ~ (c:\\Python312\\Lib\\site-packages)\n",
      "WARNING: Ignoring invalid distribution ~ip (c:\\Python312\\Lib\\site-packages)\n"
     ]
    }
   ],
   "source": [
    "pip install matplotlib"
   ]
  },
  {
   "cell_type": "code",
   "execution_count": 17,
   "metadata": {},
   "outputs": [],
   "source": [
    "import turtle \n",
    "\n",
    "t = turtle.Turtle()\n",
    "s = turtle.Screen()\n",
    "s.bgcolor(\"black\")\n",
    "t.pencolor(\"red\")\n",
    "t.speed(0)\n",
    "\n",
    "for i in range(150):  \n",
    "    t.circle(190 - i, 90)\n",
    "    t.left(90)  \n",
    "    t.circle(190 - i, 90)\n",
    "    t.left(18)\n",
    "\n",
    "turtle.done()  \n"
   ]
  },
  {
   "cell_type": "code",
   "execution_count": 19,
   "metadata": {},
   "outputs": [],
   "source": [
    "import turtle\n",
    "import random\n",
    "\n",
    "s = turtle.Screen()\n",
    "s.bgcolor(\"black\")\n",
    "\n",
    "t = turtle.Turtle()\n",
    "t.speed(0)\n",
    "turtle.colormode(255)  \n",
    "\n",
    "\n",
    "def draw_flower(x, y, color):\n",
    "    t.penup()\n",
    "    t.goto(x, y)\n",
    "    t.pendown()\n",
    "    t.pencolor(color)\n",
    "    \n",
    "    for i in range(150):\n",
    "        t.circle(190 - i, 90)\n",
    "        t.left(90)\n",
    "        t.circle(190 - i, 90)\n",
    "        t.left(18)\n",
    "\n",
    "num_flowers = 5  \n",
    "for _ in range(num_flowers):\n",
    "    x = random.randint(-300, 300)\n",
    "    y = random.randint(-200, 200)\n",
    "    color = (random.randint(100, 255), random.randint(50, 255), random.randint(50, 255))  # Random bright colors\n",
    "    draw_flower(x, y, color)\n",
    "\n",
    "turtle.done()\n"
   ]
  },
  {
   "cell_type": "code",
   "execution_count": 21,
   "metadata": {},
   "outputs": [
    {
     "ename": "KeyboardInterrupt",
     "evalue": "",
     "output_type": "error",
     "traceback": [
      "\u001b[1;31m---------------------------------------------------------------------------\u001b[0m",
      "\u001b[1;31mKeyboardInterrupt\u001b[0m                         Traceback (most recent call last)",
      "Cell \u001b[1;32mIn[21], line 31\u001b[0m\n\u001b[0;32m     28\u001b[0m     color \u001b[38;5;241m=\u001b[39m (random\u001b[38;5;241m.\u001b[39mrandint(\u001b[38;5;241m100\u001b[39m, \u001b[38;5;241m255\u001b[39m), random\u001b[38;5;241m.\u001b[39mrandint(\u001b[38;5;241m50\u001b[39m, \u001b[38;5;241m255\u001b[39m), random\u001b[38;5;241m.\u001b[39mrandint(\u001b[38;5;241m50\u001b[39m, \u001b[38;5;241m255\u001b[39m))  \u001b[38;5;66;03m# Random bright colors\u001b[39;00m\n\u001b[0;32m     29\u001b[0m     draw_flower(x, y, color)\n\u001b[1;32m---> 31\u001b[0m \u001b[43mturtle\u001b[49m\u001b[38;5;241;43m.\u001b[39;49m\u001b[43mdone\u001b[49m\u001b[43m(\u001b[49m\u001b[43m)\u001b[49m\n",
      "File \u001b[1;32m<string>:8\u001b[0m, in \u001b[0;36mmainloop\u001b[1;34m()\u001b[0m\n",
      "File \u001b[1;32mc:\\Python312\\Lib\\turtle.py:803\u001b[0m, in \u001b[0;36mTurtleScreenBase.mainloop\u001b[1;34m(self)\u001b[0m\n\u001b[0;32m    790\u001b[0m \u001b[38;5;28;01mdef\u001b[39;00m\u001b[38;5;250m \u001b[39m\u001b[38;5;21mmainloop\u001b[39m(\u001b[38;5;28mself\u001b[39m):\n\u001b[0;32m    791\u001b[0m \u001b[38;5;250m    \u001b[39m\u001b[38;5;124;03m\"\"\"Starts event loop - calling Tkinter's mainloop function.\u001b[39;00m\n\u001b[0;32m    792\u001b[0m \n\u001b[0;32m    793\u001b[0m \u001b[38;5;124;03m    No argument.\u001b[39;00m\n\u001b[1;32m   (...)\u001b[0m\n\u001b[0;32m    801\u001b[0m \n\u001b[0;32m    802\u001b[0m \u001b[38;5;124;03m    \"\"\"\u001b[39;00m\n\u001b[1;32m--> 803\u001b[0m     \u001b[38;5;28;43mself\u001b[39;49m\u001b[38;5;241;43m.\u001b[39;49m\u001b[43mcv\u001b[49m\u001b[38;5;241;43m.\u001b[39;49m\u001b[43mtk\u001b[49m\u001b[38;5;241;43m.\u001b[39;49m\u001b[43mmainloop\u001b[49m\u001b[43m(\u001b[49m\u001b[43m)\u001b[49m\n",
      "\u001b[1;31mKeyboardInterrupt\u001b[0m: "
     ]
    }
   ],
   "source": [
    "import turtle\n",
    "import random\n",
    "\n",
    "s = turtle.Screen()\n",
    "s.bgcolor(\"black\")\n",
    "\n",
    "t = turtle.Turtle()\n",
    "t.speed(0)\n",
    "turtle.colormode(255)  \n",
    "\n",
    "\n",
    "def draw_flower(x, y, color):\n",
    "    t.penup()\n",
    "    t.goto(x, y)\n",
    "    t.pendown()\n",
    "    t.pencolor(\"red\")\n",
    "    \n",
    "    for i in range(150):\n",
    "        t.circle(190 - i, 90)\n",
    "        t.left(90)\n",
    "        t.circle(190 - i, 90)\n",
    "        t.left(18)\n",
    "\n",
    "num_flowers = 5  \n",
    "for _ in range(num_flowers):\n",
    "    x = random.randint(-300, 300)\n",
    "    y = random.randint(-200, 200)\n",
    "    color = (random.randint(100, 255), random.randint(50, 255), random.randint(50, 255))  # Random bright colors\n",
    "    draw_flower(x, y, color)\n",
    "\n",
    "turtle.done()\n"
   ]
  },
  {
   "cell_type": "code",
   "execution_count": null,
   "metadata": {},
   "outputs": [],
   "source": [
    "import turtle\n",
    "import random\n",
    "\n",
    "s = turtle.Screen()\n",
    "s.bgcolor(\"black\") \n",
    "\n",
    "t = turtle.Turtle()\n",
    "t.speed(0)  \n",
    "turtle.colormode(255)  \n",
    "t.hideturtle()  \n",
    "\n",
    "def draw_flower(x, y, color):\n",
    "    t.penup()\n",
    "    t.goto(x, y)\n",
    "    t.pendown()\n",
    "    t.pencolor(color)\n",
    "    \n",
    "    for i in range(150):  \n",
    "        t.circle(190 - i, 90)\n",
    "        t.left(90)\n",
    "        t.circle(190 - i, 90)\n",
    "        t.left(18)\n",
    "\n",
    "num_flowers = 5  \n",
    "for _ in range(num_flowers):\n",
    "    x = random.randint(-300, 300)\n",
    "    y = random.randint(-200, 200)\n",
    "    \n",
    "    color = (random.randint(150, 255), random.randint(0, 100), random.randint(50, 150))  \n",
    "    \n",
    "    draw_flower(x, y, color)\n",
    "\n",
    "s.update()  \n",
    "turtle.done()\n"
   ]
  },
  {
   "cell_type": "code",
   "execution_count": null,
   "metadata": {},
   "outputs": [],
   "source": []
  }
 ],
 "metadata": {
  "kernelspec": {
   "display_name": "Python 3",
   "language": "python",
   "name": "python3"
  },
  "language_info": {
   "codemirror_mode": {
    "name": "ipython",
    "version": 3
   },
   "file_extension": ".py",
   "mimetype": "text/x-python",
   "name": "python",
   "nbconvert_exporter": "python",
   "pygments_lexer": "ipython3",
   "version": "3.12.4"
  }
 },
 "nbformat": 4,
 "nbformat_minor": 2
}
